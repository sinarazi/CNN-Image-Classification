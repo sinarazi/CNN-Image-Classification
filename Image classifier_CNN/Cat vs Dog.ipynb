{
 "cells": [
  {
   "cell_type": "code",
   "execution_count": 3,
   "metadata": {
    "colab": {},
    "colab_type": "code",
    "id": "dn-6c02VmqiN"
   },
   "outputs": [
    {
     "name": "stdout",
     "output_type": "stream",
     "text": [
      "Requirement already satisfied: wget in c:\\users\\sina\\anaconda3\\lib\\site-packages (3.2)\n"
     ]
    }
   ],
   "source": [
    "import os\n",
    "import zipfile\n",
    "import random\n",
    "import tensorflow as tf\n",
    "from tensorflow.keras.optimizers import RMSprop\n",
    "from tensorflow.keras.preprocessing.image import ImageDataGenerator\n",
    "from shutil import copyfile\n",
    "!pip install wget\n",
    "import wget"
   ]
  },
  {
   "cell_type": "code",
   "execution_count": 4,
   "metadata": {},
   "outputs": [],
   "source": [
    "if not os.path.exists('./tmp/cats-and-dogs.zip'):\n",
    "    url = 'https://download.microsoft.com/download/3/E/1/3E1C3F21-ECDB-4869-8368-6DEBA77B919F/kagglecatsanddogs_3367a.zip'\n",
    "    filename = wget.download(url)"
   ]
  },
  {
   "cell_type": "code",
   "execution_count": 5,
   "metadata": {},
   "outputs": [],
   "source": [
    "def extract_zip():\n",
    "    with zipfile.ZipFile('cats-and-dogs.zip', 'r') as zip_ref:\n",
    "        zip_ref.extractall('./tmp/')"
   ]
  },
  {
   "cell_type": "code",
   "execution_count": 6,
   "metadata": {},
   "outputs": [],
   "source": [
    "if not os.path.exists('./tmp/cats-and-dogs.zip'):\n",
    "    extract_zip()"
   ]
  },
  {
   "cell_type": "code",
   "execution_count": 9,
   "metadata": {
    "colab": {},
    "colab_type": "code",
    "id": "DM851ZmN28J3"
   },
   "outputs": [
    {
     "name": "stdout",
     "output_type": "stream",
     "text": [
      "12501\n",
      "12501\n"
     ]
    }
   ],
   "source": [
    "print(len(os.listdir('./tmp/PetImages/Cat/')))\n",
    "print(len(os.listdir('./tmp/PetImages/Dog/')))"
   ]
  },
  {
   "cell_type": "code",
   "execution_count": 18,
   "metadata": {
    "colab": {},
    "colab_type": "code",
    "id": "F-QkLjxpmyK2"
   },
   "outputs": [],
   "source": [
    "os.mkdir('./tmp/cats-v-dogs')\n",
    "os.mkdir('./tmp/cats-v-dogs/training')\n",
    "os.mkdir('./tmp/cats-v-dogs/testing')\n",
    "os.mkdir('./tmp/cats-v-dogs/training/cats')\n",
    "os.mkdir('./tmp/cats-v-dogs/training/dogs')\n",
    "os.mkdir('./tmp/cats-v-dogs/testing/cats')\n",
    "os.mkdir('./tmp/cats-v-dogs/testing/dogs')\n"
   ]
  },
  {
   "cell_type": "code",
   "execution_count": 19,
   "metadata": {
    "colab": {},
    "colab_type": "code",
    "id": "zvSODo0f9LaU"
   },
   "outputs": [
    {
     "name": "stdout",
     "output_type": "stream",
     "text": [
      "666.jpg is zero length, so ignoring.\n",
      "11702.jpg is zero length, so ignoring.\n"
     ]
    }
   ],
   "source": [
    "def split_data(SOURCE, TRAINING, TESTING, SPLIT_SIZE):\n",
    "    files = []\n",
    "    for filename in os.listdir(SOURCE):\n",
    "        file = SOURCE + filename\n",
    "        if os.path.getsize(file) > 0:\n",
    "            files.append(filename)\n",
    "        else:\n",
    "            print(filename + \" is zero length, so ignoring.\")\n",
    "\n",
    "    training_length = int(len(files) * SPLIT_SIZE)\n",
    "    testing_length = int(len(files) - training_length)\n",
    "    shuffled_set = random.sample(files, len(files))\n",
    "    training_set = shuffled_set[0:training_length]\n",
    "    testing_set = shuffled_set[-testing_length:]\n",
    "\n",
    "    for filename in training_set:\n",
    "        this_file = SOURCE + filename\n",
    "        destination = TRAINING + filename\n",
    "        copyfile(this_file, destination)\n",
    "\n",
    "    for filename in testing_set:\n",
    "        this_file = SOURCE + filename\n",
    "        destination = TESTING + filename\n",
    "        copyfile(this_file, destination)\n",
    "\n",
    "\n",
    "CAT_SOURCE_DIR = \"./tmp/PetImages/Cat/\"\n",
    "TRAINING_CATS_DIR = \"./tmp/cats-v-dogs/training/cats/\"\n",
    "TESTING_CATS_DIR = \"./tmp/cats-v-dogs/testing/cats/\"\n",
    "DOG_SOURCE_DIR = \"./tmp/PetImages/Dog/\"\n",
    "TRAINING_DOGS_DIR = \"./tmp/cats-v-dogs/training/dogs/\"\n",
    "TESTING_DOGS_DIR = \"./tmp/cats-v-dogs/testing/dogs/\"\n",
    "\n",
    "split_size = .9\n",
    "split_data(CAT_SOURCE_DIR, TRAINING_CATS_DIR, TESTING_CATS_DIR, split_size)\n",
    "split_data(DOG_SOURCE_DIR, TRAINING_DOGS_DIR, TESTING_DOGS_DIR, split_size)"
   ]
  },
  {
   "cell_type": "code",
   "execution_count": 20,
   "metadata": {
    "colab": {},
    "colab_type": "code",
    "id": "hwHXFhVG3786"
   },
   "outputs": [
    {
     "name": "stdout",
     "output_type": "stream",
     "text": [
      "11250\n",
      "11250\n",
      "1250\n",
      "1250\n"
     ]
    }
   ],
   "source": [
    "print(len(os.listdir('./tmp/cats-v-dogs/training/cats/')))\n",
    "print(len(os.listdir('./tmp/cats-v-dogs/training/dogs/')))\n",
    "print(len(os.listdir('./tmp/cats-v-dogs/testing/cats/')))\n",
    "print(len(os.listdir('./tmp/cats-v-dogs/testing/dogs/')))"
   ]
  },
  {
   "cell_type": "code",
   "execution_count": 21,
   "metadata": {
    "colab": {},
    "colab_type": "code",
    "id": "-BQrav4anTmj"
   },
   "outputs": [
    {
     "name": "stdout",
     "output_type": "stream",
     "text": [
      "WARNING:tensorflow:From C:\\Users\\SINA\\Anaconda3\\lib\\site-packages\\tensorflow\\python\\ops\\init_ops.py:1251: calling VarianceScaling.__init__ (from tensorflow.python.ops.init_ops) with dtype is deprecated and will be removed in a future version.\n",
      "Instructions for updating:\n",
      "Call initializer instance with the dtype argument instead of passing it to the constructor\n",
      "WARNING:tensorflow:From C:\\Users\\SINA\\Anaconda3\\lib\\site-packages\\tensorflow\\python\\ops\\nn_impl.py:180: add_dispatch_support.<locals>.wrapper (from tensorflow.python.ops.array_ops) is deprecated and will be removed in a future version.\n",
      "Instructions for updating:\n",
      "Use tf.where in 2.0, which has the same broadcast rule as np.where\n"
     ]
    }
   ],
   "source": [
    "model = tf.keras.models.Sequential([\n",
    "    tf.keras.layers.Conv2D(16, (3, 3), activation='relu', input_shape=(150, 150, 3)),\n",
    "    tf.keras.layers.MaxPooling2D(2, 2),\n",
    "    tf.keras.layers.Conv2D(32, (3, 3), activation='relu'),\n",
    "    tf.keras.layers.MaxPooling2D(2, 2),\n",
    "    tf.keras.layers.Conv2D(64, (3, 3), activation='relu'),\n",
    "    tf.keras.layers.MaxPooling2D(2, 2),\n",
    "    tf.keras.layers.Flatten(),\n",
    "    tf.keras.layers.Dense(512, activation='relu'),\n",
    "    tf.keras.layers.Dense(1, activation='sigmoid')\n",
    "])\n",
    "\n",
    "model.compile(optimizer=RMSprop(lr=0.001), loss='binary_crossentropy', metrics=['accuracy'])\n"
   ]
  },
  {
   "cell_type": "code",
   "execution_count": 23,
   "metadata": {
    "colab": {},
    "colab_type": "code",
    "id": "fQrZfVgz4j2g"
   },
   "outputs": [
    {
     "name": "stdout",
     "output_type": "stream",
     "text": [
      "Found 22498 images belonging to 2 classes.\n",
      "Found 2500 images belonging to 2 classes.\n"
     ]
    }
   ],
   "source": [
    "TRAINING_DIR = \"./tmp/cats-v-dogs/training/\"\n",
    "train_datagen = ImageDataGenerator(rescale=1.0/255.)\n",
    "train_generator = train_datagen.flow_from_directory(TRAINING_DIR,\n",
    "                                                    batch_size=100,\n",
    "                                                    class_mode='binary',\n",
    "                                                    target_size=(150, 150))\n",
    "\n",
    "VALIDATION_DIR = \"./tmp/cats-v-dogs/testing/\"\n",
    "validation_datagen = ImageDataGenerator(rescale=1.0/255.)\n",
    "validation_generator = validation_datagen.flow_from_directory(VALIDATION_DIR,\n",
    "                                                              batch_size=100,\n",
    "                                                              class_mode='binary',\n",
    "                                                              target_size=(150, 150))"
   ]
  },
  {
   "cell_type": "code",
   "execution_count": 24,
   "metadata": {
    "colab": {},
    "colab_type": "code",
    "id": "5qE1G6JB4fMn"
   },
   "outputs": [
    {
     "name": "stdout",
     "output_type": "stream",
     "text": [
      "Epoch 1/50\n",
      " 58/225 [======>.......................] - ETA: 52s - loss: 0.8539 - acc: 0.5645"
     ]
    },
    {
     "name": "stderr",
     "output_type": "stream",
     "text": [
      "C:\\Users\\SINA\\Anaconda3\\lib\\site-packages\\PIL\\TiffImagePlugin.py:770: UserWarning: Possibly corrupt EXIF data.  Expecting to read 32 bytes but only got 0. Skipping tag 270\n",
      "  \" Skipping tag %s\" % (size, len(data), tag)\n",
      "C:\\Users\\SINA\\Anaconda3\\lib\\site-packages\\PIL\\TiffImagePlugin.py:770: UserWarning: Possibly corrupt EXIF data.  Expecting to read 5 bytes but only got 0. Skipping tag 271\n",
      "  \" Skipping tag %s\" % (size, len(data), tag)\n",
      "C:\\Users\\SINA\\Anaconda3\\lib\\site-packages\\PIL\\TiffImagePlugin.py:770: UserWarning: Possibly corrupt EXIF data.  Expecting to read 8 bytes but only got 0. Skipping tag 272\n",
      "  \" Skipping tag %s\" % (size, len(data), tag)\n",
      "C:\\Users\\SINA\\Anaconda3\\lib\\site-packages\\PIL\\TiffImagePlugin.py:770: UserWarning: Possibly corrupt EXIF data.  Expecting to read 8 bytes but only got 0. Skipping tag 282\n",
      "  \" Skipping tag %s\" % (size, len(data), tag)\n",
      "C:\\Users\\SINA\\Anaconda3\\lib\\site-packages\\PIL\\TiffImagePlugin.py:770: UserWarning: Possibly corrupt EXIF data.  Expecting to read 8 bytes but only got 0. Skipping tag 283\n",
      "  \" Skipping tag %s\" % (size, len(data), tag)\n",
      "C:\\Users\\SINA\\Anaconda3\\lib\\site-packages\\PIL\\TiffImagePlugin.py:770: UserWarning: Possibly corrupt EXIF data.  Expecting to read 20 bytes but only got 0. Skipping tag 306\n",
      "  \" Skipping tag %s\" % (size, len(data), tag)\n",
      "C:\\Users\\SINA\\Anaconda3\\lib\\site-packages\\PIL\\TiffImagePlugin.py:770: UserWarning: Possibly corrupt EXIF data.  Expecting to read 48 bytes but only got 0. Skipping tag 532\n",
      "  \" Skipping tag %s\" % (size, len(data), tag)\n",
      "C:\\Users\\SINA\\Anaconda3\\lib\\site-packages\\PIL\\TiffImagePlugin.py:788: UserWarning: Corrupt EXIF data.  Expecting to read 2 bytes but only got 0. \n",
      "  warnings.warn(str(msg))\n"
     ]
    },
    {
     "name": "stdout",
     "output_type": "stream",
     "text": [
      "225/225 [==============================] - 79s 349ms/step - loss: 0.6696 - acc: 0.6457 - val_loss: 0.5799 - val_acc: 0.7084\n",
      "Epoch 2/50\n",
      "225/225 [==============================] - 70s 311ms/step - loss: 0.5191 - acc: 0.7417 - val_loss: 0.5302 - val_acc: 0.7324\n",
      "Epoch 3/50\n",
      "225/225 [==============================] - 70s 313ms/step - loss: 0.4373 - acc: 0.7966 - val_loss: 0.4131 - val_acc: 0.8056\n",
      "Epoch 4/50\n",
      "225/225 [==============================] - 70s 312ms/step - loss: 0.3769 - acc: 0.8315 - val_loss: 0.3893 - val_acc: 0.8264\n",
      "Epoch 5/50\n",
      "225/225 [==============================] - 79s 353ms/step - loss: 0.3178 - acc: 0.8619 - val_loss: 0.4115 - val_acc: 0.8160\n",
      "Epoch 6/50\n",
      "225/225 [==============================] - 78s 346ms/step - loss: 0.2555 - acc: 0.8944 - val_loss: 0.4790 - val_acc: 0.8188\n",
      "Epoch 7/50\n",
      "225/225 [==============================] - 70s 310ms/step - loss: 0.1886 - acc: 0.9257 - val_loss: 0.4568 - val_acc: 0.8392\n",
      "Epoch 8/50\n",
      "225/225 [==============================] - 70s 313ms/step - loss: 0.1300 - acc: 0.9516 - val_loss: 0.5223 - val_acc: 0.8352\n",
      "Epoch 9/50\n",
      "225/225 [==============================] - 71s 315ms/step - loss: 0.0899 - acc: 0.9675 - val_loss: 0.5233 - val_acc: 0.8320\n",
      "Epoch 10/50\n",
      "225/225 [==============================] - 71s 316ms/step - loss: 0.0668 - acc: 0.9796 - val_loss: 0.6001 - val_acc: 0.8316\n",
      "Epoch 11/50\n",
      "225/225 [==============================] - 71s 314ms/step - loss: 0.0537 - acc: 0.9841 - val_loss: 0.8421 - val_acc: 0.8412\n",
      "Epoch 12/50\n",
      "225/225 [==============================] - 70s 312ms/step - loss: 0.0631 - acc: 0.9829 - val_loss: 0.7164 - val_acc: 0.8408\n",
      "Epoch 13/50\n",
      "225/225 [==============================] - 71s 316ms/step - loss: 0.0447 - acc: 0.9869 - val_loss: 0.9729 - val_acc: 0.8424\n",
      "Epoch 14/50\n",
      "225/225 [==============================] - 71s 316ms/step - loss: 0.0473 - acc: 0.9863 - val_loss: 0.7505 - val_acc: 0.8340\n",
      "Epoch 15/50\n",
      "225/225 [==============================] - 70s 310ms/step - loss: 0.0417 - acc: 0.9884 - val_loss: 0.9691 - val_acc: 0.8404\n",
      "Epoch 16/50\n",
      "225/225 [==============================] - 71s 314ms/step - loss: 0.0602 - acc: 0.9835 - val_loss: 0.7400 - val_acc: 0.8120\n",
      "Epoch 17/50\n",
      "225/225 [==============================] - 70s 309ms/step - loss: 0.0517 - acc: 0.9872 - val_loss: 0.8208 - val_acc: 0.8348\n",
      "Epoch 18/50\n",
      "225/225 [==============================] - 70s 311ms/step - loss: 0.0467 - acc: 0.9876 - val_loss: 1.0567 - val_acc: 0.8272\n",
      "Epoch 19/50\n",
      "225/225 [==============================] - 70s 309ms/step - loss: 0.0480 - acc: 0.9875 - val_loss: 1.2657 - val_acc: 0.8248\n",
      "Epoch 20/50\n",
      "225/225 [==============================] - 77s 341ms/step - loss: 0.0497 - acc: 0.9866 - val_loss: 1.1401 - val_acc: 0.8100\n",
      "Epoch 21/50\n",
      "225/225 [==============================] - 80s 354ms/step - loss: 0.0567 - acc: 0.9850 - val_loss: 1.1681 - val_acc: 0.8308\n",
      "Epoch 22/50\n",
      "225/225 [==============================] - 80s 354ms/step - loss: 0.0604 - acc: 0.9830 - val_loss: 1.0832 - val_acc: 0.8392\n",
      "Epoch 23/50\n",
      "225/225 [==============================] - 79s 352ms/step - loss: 0.0714 - acc: 0.9863 - val_loss: 2.8794 - val_acc: 0.7796\n",
      "Epoch 24/50\n",
      "225/225 [==============================] - 80s 356ms/step - loss: 0.0714 - acc: 0.9850 - val_loss: 1.1689 - val_acc: 0.8400\n",
      "Epoch 25/50\n",
      "225/225 [==============================] - 80s 354ms/step - loss: 0.0671 - acc: 0.9810 - val_loss: 1.2018 - val_acc: 0.8452\n",
      "Epoch 26/50\n",
      "225/225 [==============================] - 80s 354ms/step - loss: 0.0913 - acc: 0.9782 - val_loss: 0.9680 - val_acc: 0.8288\n",
      "Epoch 27/50\n",
      "225/225 [==============================] - 73s 323ms/step - loss: 0.0607 - acc: 0.9856 - val_loss: 1.5839 - val_acc: 0.8428\n",
      "Epoch 28/50\n",
      "225/225 [==============================] - 70s 310ms/step - loss: 0.0681 - acc: 0.9828 - val_loss: 1.0311 - val_acc: 0.8256\n",
      "Epoch 29/50\n",
      "225/225 [==============================] - 70s 310ms/step - loss: 0.0615 - acc: 0.9841 - val_loss: 1.4769 - val_acc: 0.8124\n",
      "Epoch 30/50\n",
      "225/225 [==============================] - 69s 308ms/step - loss: 0.0781 - acc: 0.9799 - val_loss: 1.2365 - val_acc: 0.8380\n",
      "Epoch 31/50\n",
      "225/225 [==============================] - 70s 310ms/step - loss: 0.0743 - acc: 0.9808 - val_loss: 1.2353 - val_acc: 0.8112\n",
      "Epoch 32/50\n",
      "225/225 [==============================] - 70s 311ms/step - loss: 0.0810 - acc: 0.9795 - val_loss: 1.3014 - val_acc: 0.8304\n",
      "Epoch 33/50\n",
      "225/225 [==============================] - 70s 310ms/step - loss: 0.0779 - acc: 0.9843 - val_loss: 1.4398 - val_acc: 0.8364\n",
      "Epoch 34/50\n",
      "225/225 [==============================] - 70s 309ms/step - loss: 0.1023 - acc: 0.9785 - val_loss: 0.5213 - val_acc: 0.7724\n",
      "Epoch 35/50\n",
      "225/225 [==============================] - 79s 352ms/step - loss: 0.0990 - acc: 0.9787 - val_loss: 1.2279 - val_acc: 0.8260\n",
      "Epoch 36/50\n",
      "225/225 [==============================] - 79s 351ms/step - loss: 0.1226 - acc: 0.9764 - val_loss: 0.9838 - val_acc: 0.8180\n",
      "Epoch 37/50\n",
      "225/225 [==============================] - 80s 354ms/step - loss: 0.0956 - acc: 0.9794 - val_loss: 1.6152 - val_acc: 0.8020\n",
      "Epoch 38/50\n",
      "225/225 [==============================] - 72s 321ms/step - loss: 0.0964 - acc: 0.9794 - val_loss: 1.3496 - val_acc: 0.8144\n",
      "Epoch 39/50\n",
      "225/225 [==============================] - 71s 315ms/step - loss: 0.1087 - acc: 0.9778 - val_loss: 4.3617 - val_acc: 0.6020\n",
      "Epoch 40/50\n",
      "225/225 [==============================] - 70s 312ms/step - loss: 0.1019 - acc: 0.9742 - val_loss: 1.4227 - val_acc: 0.8172\n",
      "Epoch 41/50\n",
      "225/225 [==============================] - 71s 314ms/step - loss: 0.1077 - acc: 0.9758 - val_loss: 0.8430 - val_acc: 0.7956\n",
      "Epoch 42/50\n",
      "225/225 [==============================] - 69s 308ms/step - loss: 0.0885 - acc: 0.9796 - val_loss: 1.6306 - val_acc: 0.8364\n",
      "Epoch 43/50\n",
      "225/225 [==============================] - 70s 310ms/step - loss: 0.1441 - acc: 0.9749 - val_loss: 1.4069 - val_acc: 0.8364\n",
      "Epoch 44/50\n",
      "225/225 [==============================] - 69s 308ms/step - loss: 0.1165 - acc: 0.9748 - val_loss: 1.0751 - val_acc: 0.8060\n",
      "Epoch 45/50\n",
      "225/225 [==============================] - 76s 336ms/step - loss: 0.1219 - acc: 0.9752 - val_loss: 0.9904 - val_acc: 0.8220\n",
      "Epoch 46/50\n",
      "225/225 [==============================] - 80s 354ms/step - loss: 0.1122 - acc: 0.9793 - val_loss: 1.0586 - val_acc: 0.8040\n",
      "Epoch 47/50\n",
      "225/225 [==============================] - 79s 351ms/step - loss: 0.0863 - acc: 0.9803 - val_loss: 1.6008 - val_acc: 0.8288\n",
      "Epoch 48/50\n",
      "225/225 [==============================] - 80s 353ms/step - loss: 0.1271 - acc: 0.9732 - val_loss: 1.3575 - val_acc: 0.8080\n",
      "Epoch 49/50\n",
      "225/225 [==============================] - 81s 360ms/step - loss: 0.1337 - acc: 0.9763 - val_loss: 1.1868 - val_acc: 0.8176\n",
      "Epoch 50/50\n",
      "225/225 [==============================] - 80s 357ms/step - loss: 0.1180 - acc: 0.9765 - val_loss: 1.3883 - val_acc: 0.8236\n"
     ]
    }
   ],
   "source": [
    "# Note that this may take some time.\n",
    "history = model.fit(train_generator,\n",
    "                              epochs=50,\n",
    "                              verbose=1,\n",
    "                              validation_data=validation_generator)"
   ]
  },
  {
   "cell_type": "code",
   "execution_count": 26,
   "metadata": {
    "colab": {},
    "colab_type": "code",
    "id": "MWZrJN4-65RC",
    "scrolled": true
   },
   "outputs": [
    {
     "data": {
      "text/plain": [
       "<Figure size 432x288 with 0 Axes>"
      ]
     },
     "execution_count": 26,
     "metadata": {},
     "output_type": "execute_result"
    },
    {
     "data": {
      "image/png": "[encoded data removed]",
      "text/plain": [
       "<Figure size 432x288 with 1 Axes>"
      ]
     },
     "metadata": {
      "needs_background": "light"
     },
     "output_type": "display_data"
    },
    {
     "data": {
      "image/png": "[encoded data removed]",
      "text/plain": [
       "<Figure size 432x288 with 1 Axes>"
      ]
     },
     "metadata": {
      "needs_background": "light"
     },
     "output_type": "display_data"
    },
    {
     "data": {
      "text/plain": [
       "<Figure size 432x288 with 0 Axes>"
      ]
     },
     "metadata": {},
     "output_type": "display_data"
    }
   ],
   "source": [
    "%matplotlib inline\n",
    "\n",
    "import matplotlib.image  as mpimg\n",
    "import matplotlib.pyplot as plt\n",
    "\n",
    "#-----------------------------------------------------------\n",
    "# Retrieve a list of list results on training and test data\n",
    "# sets for each training epoch\n",
    "#-----------------------------------------------------------\n",
    "acc=history.history['acc']\n",
    "val_acc=history.history['val_acc']\n",
    "loss=history.history['loss']\n",
    "val_loss=history.history['val_loss']\n",
    "\n",
    "epochs=range(len(acc)) # Get number of epochs\n",
    "\n",
    "#------------------------------------------------\n",
    "# Plot training and validation accuracy per epoch\n",
    "#------------------------------------------------\n",
    "plt.plot(epochs, acc, 'r', \"Training Accuracy\")\n",
    "plt.plot(epochs, val_acc, 'b', \"Validation Accuracy\")\n",
    "plt.title('Training and validation accuracy')\n",
    "plt.figure()\n",
    "\n",
    "#------------------------------------------------\n",
    "# Plot training and validation loss per epoch\n",
    "#------------------------------------------------\n",
    "plt.plot(epochs, loss, 'r', \"Training Loss\")\n",
    "plt.plot(epochs, val_loss, 'b', \"Validation Loss\")\n",
    "plt.figure()\n",
    "\n",
    "\n",
    "# Desired output. Charts with training and validation metrics. No crash :)"
   ]
  },
  {
   "cell_type": "code",
   "execution_count": 28,
   "metadata": {},
   "outputs": [
    {
     "name": "stdout",
     "output_type": "stream",
     "text": [
      "Model: \"sequential\"\n",
      "_________________________________________________________________\n",
      "Layer (type)                 Output Shape              Param #   \n",
      "=================================================================\n",
      "conv2d (Conv2D)              (None, 148, 148, 16)      448       \n",
      "_________________________________________________________________\n",
      "max_pooling2d (MaxPooling2D) (None, 74, 74, 16)        0         \n",
      "_________________________________________________________________\n",
      "conv2d_1 (Conv2D)            (None, 72, 72, 32)        4640      \n",
      "_________________________________________________________________\n",
      "max_pooling2d_1 (MaxPooling2 (None, 36, 36, 32)        0         \n",
      "_________________________________________________________________\n",
      "conv2d_2 (Conv2D)            (None, 34, 34, 64)        18496     \n",
      "_________________________________________________________________\n",
      "max_pooling2d_2 (MaxPooling2 (None, 17, 17, 64)        0         \n",
      "_________________________________________________________________\n",
      "flatten (Flatten)            (None, 18496)             0         \n",
      "_________________________________________________________________\n",
      "dense (Dense)                (None, 512)               9470464   \n",
      "_________________________________________________________________\n",
      "dense_1 (Dense)              (None, 1)                 513       \n",
      "=================================================================\n",
      "Total params: 9,494,561\n",
      "Trainable params: 9,494,561\n",
      "Non-trainable params: 0\n",
      "_________________________________________________________________\n"
     ]
    }
   ],
   "source": [
    "model.summary()"
   ]
  },
  {
   "cell_type": "code",
   "execution_count": 53,
   "metadata": {
    "colab": {},
    "colab_type": "code",
    "id": "LqL6FYUrtXpf"
   },
   "outputs": [
    {
     "name": "stdout",
     "output_type": "stream",
     "text": [
      "[1.]\n",
      "This is a dog\n"
     ]
    }
   ],
   "source": [
    "# Here's a codeblock just for fun. You should be able to upload an image here \n",
    "# and have it classified without crashing\n",
    "import numpy as np\n",
    "from PIL import Image\n",
    "import imageio\n",
    "from skimage.transform import resize\n",
    "from keras.preprocessing import image\n",
    "\n",
    "my_image = \"cat.jpg\" # change this to the name of your image file \n",
    "\n",
    "path = \"test_image/\" + my_image\n",
    "# image = np.array(imageio.imread(path))\n",
    "# image = image/255\n",
    "\n",
    "# plt.imshow(image)\n",
    "img = image.load_img(path, target_size=(150, 150))\n",
    "x = image.img_to_array(img)\n",
    "x = np.expand_dims(x, axis=0)\n",
    "\n",
    "images = np.vstack([x])\n",
    "classes = model.predict(images, batch_size=10)\n",
    "print(classes[0])\n",
    "if classes[0]>0.5:\n",
    "    print(\"This is a dog\")\n",
    "else:\n",
    "    print(\"This is a cat\")"
   ]
  },
  {
   "cell_type": "code",
   "execution_count": null,
   "metadata": {},
   "outputs": [],
   "source": []
  }
 ],
 "metadata": {
  "accelerator": "GPU",
  "colab": {
   "collapsed_sections": [],
   "name": "Exercise 5 - Answer.ipynb",
   "provenance": []
  },
  "kernelspec": {
   "display_name": "Python 3",
   "language": "python",
   "name": "python3"
  },
  "language_info": {
   "codemirror_mode": {
    "name": "ipython",
    "version": 3
   },
   "file_extension": ".py",
   "mimetype": "text/x-python",
   "name": "python",
   "nbconvert_exporter": "python",
   "pygments_lexer": "ipython3",
   "version": "3.7.3"
  }
 },
 "nbformat": 4,
 "nbformat_minor": 1
}
